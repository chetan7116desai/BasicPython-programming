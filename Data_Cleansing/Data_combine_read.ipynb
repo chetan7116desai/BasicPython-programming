{
  "nbformat": 4,
  "nbformat_minor": 0,
  "metadata": {
    "colab": {
      "name": "Data_combine_read.ipynb",
      "provenance": [],
      "collapsed_sections": [],
      "include_colab_link": true
    },
    "kernelspec": {
      "name": "python3",
      "display_name": "Python 3"
    },
    "language_info": {
      "name": "python"
    }
  },
  "cells": [
    {
      "cell_type": "markdown",
      "metadata": {
        "id": "view-in-github",
        "colab_type": "text"
      },
      "source": [
        "<a href=\"https://colab.research.google.com/github/chetan7116desai/BasicPython-programming/blob/master/Data_Cleansing/Data_combine_read.ipynb\" target=\"_parent\"><img src=\"https://colab.research.google.com/assets/colab-badge.svg\" alt=\"Open In Colab\"/></a>"
      ]
    },
    {
      "cell_type": "markdown",
      "source": [
        "# Combine Data from 1990 to 2022\n",
        "\n",
        "  This file contains the code to combine all the vaccine, symptoms and data files from 1990 to 2022 to single file.\n",
        "   \n",
        "\n",
        "1. df_vax contains all the combined csv files of vaccinations from the year 1990 to 2022\n",
        "2. df_symp contains all the combined csv files of symptoms from the year 1990 to 2022\n",
        "3. df_data contains all the combined csv files of data from the year 1990 to 2022\n"
      ],
      "metadata": {
        "id": "4n49zz9iUQtW"
      }
    },
    {
      "cell_type": "code",
      "execution_count": null,
      "metadata": {
        "colab": {
          "base_uri": "https://localhost:8080/"
        },
        "id": "P7MM77E6T6Pw",
        "outputId": "3d1d022b-81a5-4908-c923-61a6ba965893"
      },
      "outputs": [
        {
          "output_type": "stream",
          "name": "stdout",
          "text": [
            "Mounted at /content/drive\n"
          ]
        }
      ],
      "source": [
        "from google.colab import drive\n",
        "drive.mount('/content/drive')"
      ]
    },
    {
      "cell_type": "code",
      "source": [
        "cd \"/content/drive/Shareddrives/Team A 606 Capstone Project/Dataset/AllVAERSDataCSVS\""
      ],
      "metadata": {
        "colab": {
          "base_uri": "https://localhost:8080/"
        },
        "id": "oIELuKZGUBnQ",
        "outputId": "ff595436-0396-4384-a037-7a07bea2e830"
      },
      "execution_count": null,
      "outputs": [
        {
          "output_type": "stream",
          "name": "stdout",
          "text": [
            "/content/drive/Shareddrives/Team A 606 Capstone Project/Dataset/AllVAERSDataCSVS\n"
          ]
        }
      ]
    },
    {
      "cell_type": "code",
      "source": [
        "ls \"/content/drive/Shareddrives/Team A 606 Capstone Project/Dataset/AllVAERSDataCSVS\""
      ],
      "metadata": {
        "colab": {
          "base_uri": "https://localhost:8080/"
        },
        "id": "GMt9rdpLUEsV",
        "outputId": "3472c5c0-16e0-4485-f824-758c2efe746e"
      },
      "execution_count": null,
      "outputs": [
        {
          "output_type": "stream",
          "name": "stdout",
          "text": [
            "1990VAERSDATA.csv      2002VAERSDATA.csv      2014VAERSDATA.csv\n",
            "1990VAERSSYMPTOMS.csv  2002VAERSSYMPTOMS.csv  2014VAERSSYMPTOMS.csv\n",
            "1990VAERSVAX.csv       2002VAERSVAX.csv       2014VAERSVAX.csv\n",
            "1991VAERSDATA.csv      2003VAERSDATA.csv      2015VAERSDATA.csv\n",
            "1991VAERSSYMPTOMS.csv  2003VAERSSYMPTOMS.csv  2015VAERSSYMPTOMS.csv\n",
            "1991VAERSVAX.csv       2003VAERSVAX.csv       2015VAERSVAX.csv\n",
            "1992VAERSDATA.csv      2004VAERSDATA.csv      2016VAERSDATA.csv\n",
            "1992VAERSSYMPTOMS.csv  2004VAERSSYMPTOMS.csv  2016VAERSSYMPTOMS.csv\n",
            "1992VAERSVAX.csv       2004VAERSVAX.csv       2016VAERSVAX.csv\n",
            "1993VAERSDATA.csv      2005VAERSDATA.csv      2017VAERSDATA.csv\n",
            "1993VAERSSYMPTOMS.csv  2005VAERSSYMPTOMS.csv  2017VAERSSYMPTOMS.csv\n",
            "1993VAERSVAX.csv       2005VAERSVAX.csv       2017VAERSVAX.csv\n",
            "1994VAERSDATA.csv      2006VAERSDATA.csv      2018VAERSDATA.csv\n",
            "1994VAERSSYMPTOMS.csv  2006VAERSSYMPTOMS.csv  2018VAERSSYMPTOMS.csv\n",
            "1994VAERSVAX.csv       2006VAERSVAX.csv       2018VAERSVAX.csv\n",
            "1995VAERSDATA.csv      2007VAERSDATA.csv      2019VAERSDATA.csv\n",
            "1995VAERSSYMPTOMS.csv  2007VAERSSYMPTOMS.csv  2019VAERSSYMPTOMS.csv\n",
            "1995VAERSVAX.csv       2007VAERSVAX.csv       2019VAERSVAX.csv\n",
            "1996VAERSDATA.csv      2008VAERSDATA.csv      2020VAERSDATA.csv\n",
            "1996VAERSSYMPTOMS.csv  2008VAERSSYMPTOMS.csv  2020VAERSSYMPTOMS.csv\n",
            "1996VAERSVAX.csv       2008VAERSVAX.csv       2020VAERSVAX.csv\n",
            "1997VAERSDATA.csv      2009VAERSDATA.csv      2021VAERSDATA.csv\n",
            "1997VAERSSYMPTOMS.csv  2009VAERSSYMPTOMS.csv  2021VAERSSYMPTOMS.csv\n",
            "1997VAERSVAX.csv       2009VAERSVAX.csv       2021VAERSVAX.csv\n",
            "1998VAERSDATA.csv      2010VAERSDATA.csv      2022VAERSDATA.csv\n",
            "1998VAERSSYMPTOMS.csv  2010VAERSSYMPTOMS.csv  2022VAERSSYMPTOMS.csv\n",
            "1998VAERSVAX.csv       2010VAERSVAX.csv       2022VAERSVAX.csv\n",
            "1999VAERSDATA.csv      2011VAERSDATA.csv      data_pat.csv\n",
            "1999VAERSSYMPTOMS.csv  2011VAERSSYMPTOMS.csv  data_sym.csv\n",
            "1999VAERSVAX.csv       2011VAERSVAX.csv       data_vax.csv\n",
            "2000VAERSDATA.csv      2012VAERSDATA.csv      manu_name.csv\n",
            "2000VAERSSYMPTOMS.csv  2012VAERSSYMPTOMS.csv  NonDomesticVAERSDATA.csv\n",
            "2000VAERSVAX.csv       2012VAERSVAX.csv       NonDomesticVAERSSYMPTOMS.csv\n",
            "2001VAERSDATA.csv      2013VAERSDATA.csv      NonDomesticVAERSVAX.csv\n",
            "2001VAERSSYMPTOMS.csv  2013VAERSSYMPTOMS.csv\n",
            "2001VAERSVAX.csv       2013VAERSVAX.csv\n"
          ]
        }
      ]
    },
    {
      "cell_type": "code",
      "source": [
        "import pandas as pd\n",
        "import glob"
      ],
      "metadata": {
        "id": "n10kFGdiUHBM"
      },
      "execution_count": null,
      "outputs": []
    },
    {
      "cell_type": "markdown",
      "source": [
        "## Reading Vaccine files"
      ],
      "metadata": {
        "id": "Txy0EC_hUPTa"
      }
    },
    {
      "cell_type": "code",
      "source": [
        "glob.glob(\"/content/drive/Shareddrives/Team A 606 Capstone Project/Dataset/AllVAERSDataCSVS/*VAERSVAX.csv\")"
      ],
      "metadata": {
        "colab": {
          "base_uri": "https://localhost:8080/"
        },
        "id": "MjVlFlzgVkrB",
        "outputId": "085a670a-12a7-4cce-931d-aaf52a80a282"
      },
      "execution_count": null,
      "outputs": [
        {
          "output_type": "execute_result",
          "data": {
            "text/plain": [
              "['/content/drive/Shareddrives/Team A 606 Capstone Project/Dataset/AllVAERSDataCSVS/1991VAERSVAX.csv',\n",
              " '/content/drive/Shareddrives/Team A 606 Capstone Project/Dataset/AllVAERSDataCSVS/1990VAERSVAX.csv',\n",
              " '/content/drive/Shareddrives/Team A 606 Capstone Project/Dataset/AllVAERSDataCSVS/1994VAERSVAX.csv',\n",
              " '/content/drive/Shareddrives/Team A 606 Capstone Project/Dataset/AllVAERSDataCSVS/1992VAERSVAX.csv',\n",
              " '/content/drive/Shareddrives/Team A 606 Capstone Project/Dataset/AllVAERSDataCSVS/1993VAERSVAX.csv',\n",
              " '/content/drive/Shareddrives/Team A 606 Capstone Project/Dataset/AllVAERSDataCSVS/1996VAERSVAX.csv',\n",
              " '/content/drive/Shareddrives/Team A 606 Capstone Project/Dataset/AllVAERSDataCSVS/1995VAERSVAX.csv',\n",
              " '/content/drive/Shareddrives/Team A 606 Capstone Project/Dataset/AllVAERSDataCSVS/1997VAERSVAX.csv',\n",
              " '/content/drive/Shareddrives/Team A 606 Capstone Project/Dataset/AllVAERSDataCSVS/2000VAERSVAX.csv',\n",
              " '/content/drive/Shareddrives/Team A 606 Capstone Project/Dataset/AllVAERSDataCSVS/1998VAERSVAX.csv',\n",
              " '/content/drive/Shareddrives/Team A 606 Capstone Project/Dataset/AllVAERSDataCSVS/1999VAERSVAX.csv',\n",
              " '/content/drive/Shareddrives/Team A 606 Capstone Project/Dataset/AllVAERSDataCSVS/2001VAERSVAX.csv',\n",
              " '/content/drive/Shareddrives/Team A 606 Capstone Project/Dataset/AllVAERSDataCSVS/2002VAERSVAX.csv',\n",
              " '/content/drive/Shareddrives/Team A 606 Capstone Project/Dataset/AllVAERSDataCSVS/2003VAERSVAX.csv',\n",
              " '/content/drive/Shareddrives/Team A 606 Capstone Project/Dataset/AllVAERSDataCSVS/2005VAERSVAX.csv',\n",
              " '/content/drive/Shareddrives/Team A 606 Capstone Project/Dataset/AllVAERSDataCSVS/2004VAERSVAX.csv',\n",
              " '/content/drive/Shareddrives/Team A 606 Capstone Project/Dataset/AllVAERSDataCSVS/2006VAERSVAX.csv',\n",
              " '/content/drive/Shareddrives/Team A 606 Capstone Project/Dataset/AllVAERSDataCSVS/2007VAERSVAX.csv',\n",
              " '/content/drive/Shareddrives/Team A 606 Capstone Project/Dataset/AllVAERSDataCSVS/2008VAERSVAX.csv',\n",
              " '/content/drive/Shareddrives/Team A 606 Capstone Project/Dataset/AllVAERSDataCSVS/2009VAERSVAX.csv',\n",
              " '/content/drive/Shareddrives/Team A 606 Capstone Project/Dataset/AllVAERSDataCSVS/2010VAERSVAX.csv',\n",
              " '/content/drive/Shareddrives/Team A 606 Capstone Project/Dataset/AllVAERSDataCSVS/2012VAERSVAX.csv',\n",
              " '/content/drive/Shareddrives/Team A 606 Capstone Project/Dataset/AllVAERSDataCSVS/2011VAERSVAX.csv',\n",
              " '/content/drive/Shareddrives/Team A 606 Capstone Project/Dataset/AllVAERSDataCSVS/2014VAERSVAX.csv',\n",
              " '/content/drive/Shareddrives/Team A 606 Capstone Project/Dataset/AllVAERSDataCSVS/2013VAERSVAX.csv',\n",
              " '/content/drive/Shareddrives/Team A 606 Capstone Project/Dataset/AllVAERSDataCSVS/2015VAERSVAX.csv',\n",
              " '/content/drive/Shareddrives/Team A 606 Capstone Project/Dataset/AllVAERSDataCSVS/2016VAERSVAX.csv',\n",
              " '/content/drive/Shareddrives/Team A 606 Capstone Project/Dataset/AllVAERSDataCSVS/2017VAERSVAX.csv',\n",
              " '/content/drive/Shareddrives/Team A 606 Capstone Project/Dataset/AllVAERSDataCSVS/2018VAERSVAX.csv',\n",
              " '/content/drive/Shareddrives/Team A 606 Capstone Project/Dataset/AllVAERSDataCSVS/2019VAERSVAX.csv',\n",
              " '/content/drive/Shareddrives/Team A 606 Capstone Project/Dataset/AllVAERSDataCSVS/2020VAERSVAX.csv',\n",
              " '/content/drive/Shareddrives/Team A 606 Capstone Project/Dataset/AllVAERSDataCSVS/2021VAERSVAX.csv',\n",
              " '/content/drive/Shareddrives/Team A 606 Capstone Project/Dataset/AllVAERSDataCSVS/2022VAERSVAX.csv',\n",
              " '/content/drive/Shareddrives/Team A 606 Capstone Project/Dataset/AllVAERSDataCSVS/NonDomesticVAERSVAX.csv']"
            ]
          },
          "metadata": {},
          "execution_count": 14
        }
      ]
    },
    {
      "cell_type": "code",
      "source": [
        "all_data_vax = []\n",
        "for f in glob.glob(\"/content/drive/Shareddrives/Team A 606 Capstone Project/Dataset/AllVAERSDataCSVS/*VAERSVAX.csv\"):\n",
        "    VAX = pd.read_csv(f,encoding='latin1', engine='python')\n",
        "    all_data_vax.append(VAX)\n",
        "df_vax = pd.concat(all_data_vax, axis=0, ignore_index=True)"
      ],
      "metadata": {
        "id": "17D_Oml-UIjm"
      },
      "execution_count": null,
      "outputs": []
    },
    {
      "cell_type": "code",
      "source": [
        "df_vax.info()"
      ],
      "metadata": {
        "colab": {
          "base_uri": "https://localhost:8080/"
        },
        "id": "s8I7iRpWUjv6",
        "outputId": "f93e96f2-30b9-4eea-ff87-114435e28a9c"
      },
      "execution_count": null,
      "outputs": [
        {
          "output_type": "stream",
          "name": "stdout",
          "text": [
            "<class 'pandas.core.frame.DataFrame'>\n",
            "RangeIndex: 2420759 entries, 0 to 2420758\n",
            "Data columns (total 8 columns):\n",
            " #   Column           Dtype \n",
            "---  ------           ----- \n",
            " 0   VAERS_ID         int64 \n",
            " 1   VAX_TYPE         object\n",
            " 2   VAX_MANU         object\n",
            " 3   VAX_LOT          object\n",
            " 4   VAX_DOSE_SERIES  object\n",
            " 5   VAX_ROUTE        object\n",
            " 6   VAX_SITE         object\n",
            " 7   VAX_NAME         object\n",
            "dtypes: int64(1), object(7)\n",
            "memory usage: 147.8+ MB\n"
          ]
        }
      ]
    },
    {
      "cell_type": "code",
      "source": [
        "# Writing combined files into one file\n",
        "df_vax.to_csv(\"/content/drive/Shareddrives/Team A 606 Capstone Project/Dataset/data_vax.csv\")"
      ],
      "metadata": {
        "id": "d72MMb9kUNNc"
      },
      "execution_count": null,
      "outputs": []
    },
    {
      "cell_type": "markdown",
      "source": [
        "## Reading Symptoms files"
      ],
      "metadata": {
        "id": "mMxb-kmaUlY-"
      }
    },
    {
      "cell_type": "code",
      "source": [
        "glob.glob(\"/content/drive/Shareddrives/Team A 606 Capstone Project/Dataset/AllVAERSDataCSVS/*VAERSSYMPTOMS.csv\")"
      ],
      "metadata": {
        "colab": {
          "base_uri": "https://localhost:8080/"
        },
        "id": "QhZM29IHVoHL",
        "outputId": "c3a883ff-6e2c-42be-9a05-83867285caf5"
      },
      "execution_count": null,
      "outputs": [
        {
          "output_type": "execute_result",
          "data": {
            "text/plain": [
              "['/content/drive/Shareddrives/Team A 606 Capstone Project/Dataset/AllVAERSDataCSVS/1990VAERSSYMPTOMS.csv',\n",
              " '/content/drive/Shareddrives/Team A 606 Capstone Project/Dataset/AllVAERSDataCSVS/1991VAERSSYMPTOMS.csv',\n",
              " '/content/drive/Shareddrives/Team A 606 Capstone Project/Dataset/AllVAERSDataCSVS/1993VAERSSYMPTOMS.csv',\n",
              " '/content/drive/Shareddrives/Team A 606 Capstone Project/Dataset/AllVAERSDataCSVS/1994VAERSSYMPTOMS.csv',\n",
              " '/content/drive/Shareddrives/Team A 606 Capstone Project/Dataset/AllVAERSDataCSVS/1992VAERSSYMPTOMS.csv',\n",
              " '/content/drive/Shareddrives/Team A 606 Capstone Project/Dataset/AllVAERSDataCSVS/1996VAERSSYMPTOMS.csv',\n",
              " '/content/drive/Shareddrives/Team A 606 Capstone Project/Dataset/AllVAERSDataCSVS/1995VAERSSYMPTOMS.csv',\n",
              " '/content/drive/Shareddrives/Team A 606 Capstone Project/Dataset/AllVAERSDataCSVS/1997VAERSSYMPTOMS.csv',\n",
              " '/content/drive/Shareddrives/Team A 606 Capstone Project/Dataset/AllVAERSDataCSVS/1999VAERSSYMPTOMS.csv',\n",
              " '/content/drive/Shareddrives/Team A 606 Capstone Project/Dataset/AllVAERSDataCSVS/2000VAERSSYMPTOMS.csv',\n",
              " '/content/drive/Shareddrives/Team A 606 Capstone Project/Dataset/AllVAERSDataCSVS/1998VAERSSYMPTOMS.csv',\n",
              " '/content/drive/Shareddrives/Team A 606 Capstone Project/Dataset/AllVAERSDataCSVS/2002VAERSSYMPTOMS.csv',\n",
              " '/content/drive/Shareddrives/Team A 606 Capstone Project/Dataset/AllVAERSDataCSVS/2003VAERSSYMPTOMS.csv',\n",
              " '/content/drive/Shareddrives/Team A 606 Capstone Project/Dataset/AllVAERSDataCSVS/2001VAERSSYMPTOMS.csv',\n",
              " '/content/drive/Shareddrives/Team A 606 Capstone Project/Dataset/AllVAERSDataCSVS/2004VAERSSYMPTOMS.csv',\n",
              " '/content/drive/Shareddrives/Team A 606 Capstone Project/Dataset/AllVAERSDataCSVS/2005VAERSSYMPTOMS.csv',\n",
              " '/content/drive/Shareddrives/Team A 606 Capstone Project/Dataset/AllVAERSDataCSVS/2006VAERSSYMPTOMS.csv',\n",
              " '/content/drive/Shareddrives/Team A 606 Capstone Project/Dataset/AllVAERSDataCSVS/2007VAERSSYMPTOMS.csv',\n",
              " '/content/drive/Shareddrives/Team A 606 Capstone Project/Dataset/AllVAERSDataCSVS/2008VAERSSYMPTOMS.csv',\n",
              " '/content/drive/Shareddrives/Team A 606 Capstone Project/Dataset/AllVAERSDataCSVS/2009VAERSSYMPTOMS.csv',\n",
              " '/content/drive/Shareddrives/Team A 606 Capstone Project/Dataset/AllVAERSDataCSVS/2010VAERSSYMPTOMS.csv',\n",
              " '/content/drive/Shareddrives/Team A 606 Capstone Project/Dataset/AllVAERSDataCSVS/2012VAERSSYMPTOMS.csv',\n",
              " '/content/drive/Shareddrives/Team A 606 Capstone Project/Dataset/AllVAERSDataCSVS/2011VAERSSYMPTOMS.csv',\n",
              " '/content/drive/Shareddrives/Team A 606 Capstone Project/Dataset/AllVAERSDataCSVS/2014VAERSSYMPTOMS.csv',\n",
              " '/content/drive/Shareddrives/Team A 606 Capstone Project/Dataset/AllVAERSDataCSVS/2013VAERSSYMPTOMS.csv',\n",
              " '/content/drive/Shareddrives/Team A 606 Capstone Project/Dataset/AllVAERSDataCSVS/2015VAERSSYMPTOMS.csv',\n",
              " '/content/drive/Shareddrives/Team A 606 Capstone Project/Dataset/AllVAERSDataCSVS/2017VAERSSYMPTOMS.csv',\n",
              " '/content/drive/Shareddrives/Team A 606 Capstone Project/Dataset/AllVAERSDataCSVS/2016VAERSSYMPTOMS.csv',\n",
              " '/content/drive/Shareddrives/Team A 606 Capstone Project/Dataset/AllVAERSDataCSVS/2018VAERSSYMPTOMS.csv',\n",
              " '/content/drive/Shareddrives/Team A 606 Capstone Project/Dataset/AllVAERSDataCSVS/2019VAERSSYMPTOMS.csv',\n",
              " '/content/drive/Shareddrives/Team A 606 Capstone Project/Dataset/AllVAERSDataCSVS/2020VAERSSYMPTOMS.csv',\n",
              " '/content/drive/Shareddrives/Team A 606 Capstone Project/Dataset/AllVAERSDataCSVS/2021VAERSSYMPTOMS.csv',\n",
              " '/content/drive/Shareddrives/Team A 606 Capstone Project/Dataset/AllVAERSDataCSVS/2022VAERSSYMPTOMS.csv',\n",
              " '/content/drive/Shareddrives/Team A 606 Capstone Project/Dataset/AllVAERSDataCSVS/NonDomesticVAERSSYMPTOMS.csv']"
            ]
          },
          "metadata": {},
          "execution_count": 15
        }
      ]
    },
    {
      "cell_type": "code",
      "source": [
        "all_data_symptoms = []\n",
        "for f in glob.glob(\"/content/drive/Shareddrives/Team A 606 Capstone Project/Dataset/AllVAERSDataCSVS/*VAERSSYMPTOMS.csv\"):\n",
        "    SYMP = pd.read_csv(f,encoding='latin1', engine='python')\n",
        "    all_data_symptoms.append(SYMP)\n",
        "df_symp = pd.concat(all_data_symptoms, axis=0, ignore_index=True)"
      ],
      "metadata": {
        "id": "dKx0fBNMUsbb"
      },
      "execution_count": null,
      "outputs": []
    },
    {
      "cell_type": "code",
      "source": [
        "df_symp.info()"
      ],
      "metadata": {
        "colab": {
          "base_uri": "https://localhost:8080/"
        },
        "id": "eCn9ASsNUvCU",
        "outputId": "78bcb9fc-a99a-475f-f928-33ad6fd64d3f"
      },
      "execution_count": null,
      "outputs": [
        {
          "output_type": "stream",
          "name": "stdout",
          "text": [
            "<class 'pandas.core.frame.DataFrame'>\n",
            "RangeIndex: 2596826 entries, 0 to 2596825\n",
            "Data columns (total 11 columns):\n",
            " #   Column           Dtype  \n",
            "---  ------           -----  \n",
            " 0   VAERS_ID         int64  \n",
            " 1   SYMPTOM1         object \n",
            " 2   SYMPTOMVERSION1  float64\n",
            " 3   SYMPTOM2         object \n",
            " 4   SYMPTOMVERSION2  float64\n",
            " 5   SYMPTOM3         object \n",
            " 6   SYMPTOMVERSION3  float64\n",
            " 7   SYMPTOM4         object \n",
            " 8   SYMPTOMVERSION4  float64\n",
            " 9   SYMPTOM5         object \n",
            " 10  SYMPTOMVERSION5  float64\n",
            "dtypes: float64(5), int64(1), object(5)\n",
            "memory usage: 217.9+ MB\n"
          ]
        }
      ]
    },
    {
      "cell_type": "code",
      "source": [
        "# Writing combined files into one file\n",
        "df_symp.to_csv(\"/content/drive/Shareddrives/Team A 606 Capstone Project/Dataset/data_sym.csv\")"
      ],
      "metadata": {
        "id": "hArFTWQyUu26"
      },
      "execution_count": null,
      "outputs": []
    },
    {
      "cell_type": "markdown",
      "source": [
        "## Reading Data Files"
      ],
      "metadata": {
        "id": "1PTjWHRCUzj2"
      }
    },
    {
      "cell_type": "code",
      "source": [
        "glob.glob(\"/content/drive/Shareddrives/Team A 606 Capstone Project/Dataset/AllVAERSDataCSVS/*VAERSDATA.csv\")"
      ],
      "metadata": {
        "colab": {
          "base_uri": "https://localhost:8080/"
        },
        "id": "dxv4w4BxVqvI",
        "outputId": "b16c153d-d81a-4e27-b997-7116a6fda277"
      },
      "execution_count": null,
      "outputs": [
        {
          "output_type": "execute_result",
          "data": {
            "text/plain": [
              "['/content/drive/Shareddrives/Team A 606 Capstone Project/Dataset/AllVAERSDataCSVS/1991VAERSDATA.csv',\n",
              " '/content/drive/Shareddrives/Team A 606 Capstone Project/Dataset/AllVAERSDataCSVS/1990VAERSDATA.csv',\n",
              " '/content/drive/Shareddrives/Team A 606 Capstone Project/Dataset/AllVAERSDataCSVS/1993VAERSDATA.csv',\n",
              " '/content/drive/Shareddrives/Team A 606 Capstone Project/Dataset/AllVAERSDataCSVS/1992VAERSDATA.csv',\n",
              " '/content/drive/Shareddrives/Team A 606 Capstone Project/Dataset/AllVAERSDataCSVS/1994VAERSDATA.csv',\n",
              " '/content/drive/Shareddrives/Team A 606 Capstone Project/Dataset/AllVAERSDataCSVS/1995VAERSDATA.csv',\n",
              " '/content/drive/Shareddrives/Team A 606 Capstone Project/Dataset/AllVAERSDataCSVS/1996VAERSDATA.csv',\n",
              " '/content/drive/Shareddrives/Team A 606 Capstone Project/Dataset/AllVAERSDataCSVS/1997VAERSDATA.csv',\n",
              " '/content/drive/Shareddrives/Team A 606 Capstone Project/Dataset/AllVAERSDataCSVS/2000VAERSDATA.csv',\n",
              " '/content/drive/Shareddrives/Team A 606 Capstone Project/Dataset/AllVAERSDataCSVS/1999VAERSDATA.csv',\n",
              " '/content/drive/Shareddrives/Team A 606 Capstone Project/Dataset/AllVAERSDataCSVS/1998VAERSDATA.csv',\n",
              " '/content/drive/Shareddrives/Team A 606 Capstone Project/Dataset/AllVAERSDataCSVS/2002VAERSDATA.csv',\n",
              " '/content/drive/Shareddrives/Team A 606 Capstone Project/Dataset/AllVAERSDataCSVS/2003VAERSDATA.csv',\n",
              " '/content/drive/Shareddrives/Team A 606 Capstone Project/Dataset/AllVAERSDataCSVS/2001VAERSDATA.csv',\n",
              " '/content/drive/Shareddrives/Team A 606 Capstone Project/Dataset/AllVAERSDataCSVS/2005VAERSDATA.csv',\n",
              " '/content/drive/Shareddrives/Team A 606 Capstone Project/Dataset/AllVAERSDataCSVS/2004VAERSDATA.csv',\n",
              " '/content/drive/Shareddrives/Team A 606 Capstone Project/Dataset/AllVAERSDataCSVS/2006VAERSDATA.csv',\n",
              " '/content/drive/Shareddrives/Team A 606 Capstone Project/Dataset/AllVAERSDataCSVS/2007VAERSDATA.csv',\n",
              " '/content/drive/Shareddrives/Team A 606 Capstone Project/Dataset/AllVAERSDataCSVS/2008VAERSDATA.csv',\n",
              " '/content/drive/Shareddrives/Team A 606 Capstone Project/Dataset/AllVAERSDataCSVS/2009VAERSDATA.csv',\n",
              " '/content/drive/Shareddrives/Team A 606 Capstone Project/Dataset/AllVAERSDataCSVS/2010VAERSDATA.csv',\n",
              " '/content/drive/Shareddrives/Team A 606 Capstone Project/Dataset/AllVAERSDataCSVS/2011VAERSDATA.csv',\n",
              " '/content/drive/Shareddrives/Team A 606 Capstone Project/Dataset/AllVAERSDataCSVS/2012VAERSDATA.csv',\n",
              " '/content/drive/Shareddrives/Team A 606 Capstone Project/Dataset/AllVAERSDataCSVS/2014VAERSDATA.csv',\n",
              " '/content/drive/Shareddrives/Team A 606 Capstone Project/Dataset/AllVAERSDataCSVS/2013VAERSDATA.csv',\n",
              " '/content/drive/Shareddrives/Team A 606 Capstone Project/Dataset/AllVAERSDataCSVS/2015VAERSDATA.csv',\n",
              " '/content/drive/Shareddrives/Team A 606 Capstone Project/Dataset/AllVAERSDataCSVS/2016VAERSDATA.csv',\n",
              " '/content/drive/Shareddrives/Team A 606 Capstone Project/Dataset/AllVAERSDataCSVS/2017VAERSDATA.csv',\n",
              " '/content/drive/Shareddrives/Team A 606 Capstone Project/Dataset/AllVAERSDataCSVS/2018VAERSDATA.csv',\n",
              " '/content/drive/Shareddrives/Team A 606 Capstone Project/Dataset/AllVAERSDataCSVS/2019VAERSDATA.csv',\n",
              " '/content/drive/Shareddrives/Team A 606 Capstone Project/Dataset/AllVAERSDataCSVS/2020VAERSDATA.csv',\n",
              " '/content/drive/Shareddrives/Team A 606 Capstone Project/Dataset/AllVAERSDataCSVS/2021VAERSDATA.csv',\n",
              " '/content/drive/Shareddrives/Team A 606 Capstone Project/Dataset/AllVAERSDataCSVS/2022VAERSDATA.csv',\n",
              " '/content/drive/Shareddrives/Team A 606 Capstone Project/Dataset/AllVAERSDataCSVS/NonDomesticVAERSDATA.csv']"
            ]
          },
          "metadata": {},
          "execution_count": 16
        }
      ]
    },
    {
      "cell_type": "code",
      "source": [
        "all_data_DATA = []\n",
        "for f in glob.glob(\"/content/drive/Shareddrives/Team A 606 Capstone Project/Dataset/AllVAERSDataCSVS/*VAERSDATA.csv\"):\n",
        "    DATA = pd.read_csv(f,encoding='latin1', engine='python')\n",
        "    all_data_DATA.append(DATA)\n",
        "df_data = pd.concat(all_data_DATA, axis=0, ignore_index=True)"
      ],
      "metadata": {
        "id": "1jW_OLMtU1JV"
      },
      "execution_count": null,
      "outputs": []
    },
    {
      "cell_type": "code",
      "source": [
        "df_data.info()"
      ],
      "metadata": {
        "colab": {
          "base_uri": "https://localhost:8080/"
        },
        "id": "1nLQC1eXU6-h",
        "outputId": "7e9aeee3-ad46-4d48-fe26-122de0b07e5f"
      },
      "execution_count": null,
      "outputs": [
        {
          "output_type": "stream",
          "name": "stdout",
          "text": [
            "<class 'pandas.core.frame.DataFrame'>\n",
            "RangeIndex: 1951645 entries, 0 to 1951644\n",
            "Data columns (total 35 columns):\n",
            " #   Column        Dtype  \n",
            "---  ------        -----  \n",
            " 0   VAERS_ID      int64  \n",
            " 1   RECVDATE      object \n",
            " 2   STATE         object \n",
            " 3   AGE_YRS       float64\n",
            " 4   CAGE_YR       float64\n",
            " 5   CAGE_MO       float64\n",
            " 6   SEX           object \n",
            " 7   RPT_DATE      object \n",
            " 8   SYMPTOM_TEXT  object \n",
            " 9   DIED          object \n",
            " 10  DATEDIED      object \n",
            " 11  L_THREAT      object \n",
            " 12  ER_VISIT      object \n",
            " 13  HOSPITAL      object \n",
            " 14  HOSPDAYS      float64\n",
            " 15  X_STAY        object \n",
            " 16  DISABLE       object \n",
            " 17  RECOVD        object \n",
            " 18  VAX_DATE      object \n",
            " 19  ONSET_DATE    object \n",
            " 20  NUMDAYS       float64\n",
            " 21  LAB_DATA      object \n",
            " 22  V_ADMINBY     object \n",
            " 23  V_FUNDBY      object \n",
            " 24  OTHER_MEDS    object \n",
            " 25  CUR_ILL       object \n",
            " 26  HISTORY       object \n",
            " 27  PRIOR_VAX     object \n",
            " 28  SPLTTYPE      object \n",
            " 29  FORM_VERS     int64  \n",
            " 30  TODAYS_DATE   object \n",
            " 31  BIRTH_DEFECT  object \n",
            " 32  OFC_VISIT     object \n",
            " 33  ER_ED_VISIT   object \n",
            " 34  ALLERGIES     object \n",
            "dtypes: float64(5), int64(2), object(28)\n",
            "memory usage: 521.1+ MB\n"
          ]
        }
      ]
    },
    {
      "cell_type": "code",
      "source": [
        "# Writing combined files into one file\n",
        "df_data.to_csv(\"/content/drive/Shareddrives/Team A 606 Capstone Project/Dataset/data_pat.csv\")"
      ],
      "metadata": {
        "id": "ihpuSci8U3KE"
      },
      "execution_count": null,
      "outputs": []
    },
    {
      "cell_type": "markdown",
      "source": [
        "# Reference\n",
        "1. Reference:https://pbpython.com/excel-file-combine.html"
      ],
      "metadata": {
        "id": "uR_lTmd9VY0L"
      }
    }
  ]
}